{
 "cells": [
  {
   "cell_type": "markdown",
   "metadata": {},
   "source": [
    "# BMDS for ToxRefDB - Part 1 - Preparing data from \n",
    "The objectives of this document is to outline the amount of data that may be available for an automated BMD workflow, and to further identify the potential caveats in an automated BMD analysis of these data.\n",
    "\n",
    "## Filtering ToxRefDB to obtain the studies available for consideration  \n",
    "* Database version: ToxRefDB_2_0 (dev_toxrefdb_2_0 on mysql-res1.epa.gov)\n",
    "* Quality filters using columns in the database:\n",
    "    + data_usability = acceptable\n",
    "    + Number of Dose = control + >2 treatment dose\n",
    "* Filter Flags \n",
    "    + Missing Values\n",
    "        + One or more sample size in a dataset\n",
    "        + One or more effect value in a dataset\n",
    "        + One or more dose value in a dataset\n",
    "        + One or more dose level in a dataset\n",
    "    + Duplicated Data\n",
    "        + Dose value is the same for more than one dose level in a dataset\n",
    "    + Zero(s)  \n",
    "        + sample size is zero \n",
    "* Possible issues with the BMD models:\n",
    "    + Some have small sample size per dose group (e.g., dog studies have <10 animals per dose group) \n",
    "    + Not all effect value or effect value units can be used \n",
    "    + Some of the effect values refer to the same biological parameter (i.e. body weight measured as absolute unit or as a percentage) \n",
    "    + Effect values may not not have sample size for one or more dose level\n"
   ]
  },
  {
   "cell_type": "code",
   "execution_count": 1,
   "metadata": {},
   "outputs": [
    {
     "name": "stderr",
     "output_type": "stream",
     "text": [
      "Loading required package: DBI\n"
     ]
    }
   ],
   "source": [
    "library(RMySQL)\n",
    "library(data.table)\n",
    "library(magrittr)"
   ]
  },
  {
   "cell_type": "code",
   "execution_count": 4,
   "metadata": {},
   "outputs": [],
   "source": [
    "setwd(\"--\")"
   ]
  },
  {
   "cell_type": "code",
   "execution_count": 5,
   "metadata": {},
   "outputs": [
    {
     "data": {},
     "metadata": {},
     "output_type": "display_data"
    }
   ],
   "source": [
    "con <- dbConnect(drv = RMySQL::MySQL(), group = \"toxrefdb_2_0\")\n",
    "\n",
    "toxRef <- dbGetQuery(con, \"SELECT \n",
    "          study.study_id,\n",
    "          study.chemical_id,\n",
    "          study.dsstox_gsid,\n",
    "          study.study_type,\n",
    "          study.study_year,\n",
    "          study.study_source,\n",
    "          study.species,\n",
    "          study.strain_group,\n",
    "          study.admin_route,\n",
    "          study.admin_method,\n",
    "          study.substance_purity,\n",
    "          endpoint.endpoint_category,\n",
    "          endpoint.endpoint_type,\n",
    "          endpoint.endpoint_target,\n",
    "          endpoint.endpoint_id,\n",
    "          tg_effect.life_stage,\n",
    "          effect.effect_id,\n",
    "          effect.effect_desc,\n",
    "          tg_effect.effect_id,\n",
    "          tg_effect.tg_effect_id,\n",
    "          tg.sex,\n",
    "          tg.generation,\n",
    "          dose.dose_level,\n",
    "          dtg.dose_adjusted,\n",
    "          dtg.dose_adjusted_unit,\n",
    "          dtg_effect.sample_size,\n",
    "\t      dtg_effect.effect_val,\n",
    "\t      dtg_effect.effect_val_unit,\n",
    "          dtg_effect.effect_var,\n",
    "          dtg_effect.effect_var_type,  \n",
    "          dtg_effect.treatment_related,\n",
    "          dtg_effect.critical_effect\n",
    "      FROM \n",
    "          ((((((((study INNER JOIN dose ON dose.study_id=study.study_id)\n",
    "              INNER JOIN tg ON tg.study_id=study.study_id)\n",
    "                  INNER JOIN dtg ON tg.tg_id=dtg.tg_id AND dose.dose_id=dtg.dose_id)\n",
    "                      INNER JOIN tg_effect ON tg.tg_id=tg_effect.tg_id)\n",
    "                          INNER JOIN dtg_effect ON tg_effect.tg_effect_id=dtg_effect.tg_effect_id AND dtg.dtg_id=dtg_effect.dtg_id)\n",
    "                              INNER JOIN effect ON effect.effect_id=tg_effect.effect_id)\n",
    "                                  INNER JOIN endpoint ON endpoint.endpoint_id=effect.endpoint_id)\n",
    "                                    INNER JOIN obs ON obs.study_id=study.study_id AND obs.endpoint_id=endpoint.endpoint_id)\n",
    "      WHERE study.data_usability='acceptable' \") %>% \n",
    "  data.table() \n",
    "\n",
    "toxRef[ , dose_no := max(dose_level), by = study_id]\n"
   ]
  },
  {
   "cell_type": "markdown",
   "metadata": {},
   "source": [
    "# Clean data for BMDS\n",
    "\n",
    "*Which problems can we adress?*\n",
    "\n",
    "  * New colums are created to show what data are adjusted and the new values associatd with it\n",
    "    * effect_val_adj\n",
    "    * effect_val_unit_adj\n",
    "    * effect_var_adj\n",
    "    * effect_var_type_adj\n",
    "\n",
    "What kind of effect units can we use?\n",
    "\n",
    "There are about 1,598 unique units used in the database. \n",
    "\n",
    "__Count data to be used for a Dichotomous Model__\n",
    "\n",
    "* Find and convert all variant of a unit\n",
    "    *\"incidence\",\n",
    "\"incindence\",\n",
    "\"Incidence\",\n",
    "\"inicidence\",\n",
    "\"total incidence\",\n",
    "\"fetal incidence\",\n",
    "\"litter incidence\",\n",
    "\"percent incidence\",\n",
    "'incidnece',\n",
    "\"incidences\",\n",
    "\"indidence\",\n",
    "\"incidental\",\n",
    "\"incidnet\",\n",
    "\"incident\",\n",
    "\"incidene\",\n",
    "\"incidents\",\n",
    "\"fetal incicdence\",\n",
    "\"incidence\", \n",
    "\" incidence\",\n",
    "\"incidnce\",\n",
    "\"incidence/animals alive\",\n",
    "\"incidence of early resorptions\",\n",
    "\"incincidence\",\n",
    "\"incidnence\" \n",
    "\n",
    "* Converting Percent incidence to incident\n",
    "\n",
    "$$ \\frac{n*pinc}{100} $$\n",
    "\n",
    "n = sample size  \n",
    "pinc = percent incidence\n",
    "\n",
    "__Converting variance estimation for continuous data__\n",
    "\n",
    "* Converting standard error to standard deviation\n",
    "\n",
    "$$ sd=se*\\sqrt{n} $$\n",
    "sd = standard deviation  \n",
    "se = standard error  \n",
    "n = sample size  \n",
    "\n",
    "* Converting 95% confidence interval to standard error\n",
    "\n",
    "$$ se=\\frac{Y_u-Y_l}{2*t_{df=n-1}} $$\n",
    "se = standard error  \n",
    "$Y_u$ = upper bound of the mean  \n",
    "$Y_l$ = lower bound of the mean  \n",
    "t = student t-distribution  \n",
    "df = degrees of freedom   \n"
   ]
  },
  {
   "cell_type": "code",
   "execution_count": 6,
   "metadata": {},
   "outputs": [
    {
     "name": "stderr",
     "output_type": "stream",
     "text": [
      "Warning message in eval(jsub, SDenv, parent.frame()):\n",
      "\"NAs introduced by coercion\""
     ]
    },
    {
     "data": {},
     "metadata": {},
     "output_type": "display_data"
    },
    {
     "data": {},
     "metadata": {},
     "output_type": "display_data"
    },
    {
     "data": {},
     "metadata": {},
     "output_type": "display_data"
    },
    {
     "data": {},
     "metadata": {},
     "output_type": "display_data"
    },
    {
     "data": {},
     "metadata": {},
     "output_type": "display_data"
    },
    {
     "data": {},
     "metadata": {},
     "output_type": "display_data"
    },
    {
     "data": {},
     "metadata": {},
     "output_type": "display_data"
    },
    {
     "data": {},
     "metadata": {},
     "output_type": "display_data"
    },
    {
     "data": {},
     "metadata": {},
     "output_type": "display_data"
    },
    {
     "data": {},
     "metadata": {},
     "output_type": "display_data"
    },
    {
     "data": {},
     "metadata": {},
     "output_type": "display_data"
    },
    {
     "data": {},
     "metadata": {},
     "output_type": "display_data"
    },
    {
     "data": {},
     "metadata": {},
     "output_type": "display_data"
    },
    {
     "data": {},
     "metadata": {},
     "output_type": "display_data"
    }
   ],
   "source": [
    "\n",
    "trCorrection <- copy(toxRef) %>% .[dose_no > 2] # at least 3 treatment related doses + control\n",
    "trCorrection[ , sample_size := as.numeric(sample_size)]\n",
    "\n",
    "##Different variations of incidence in ToxRefDB\n",
    "\n",
    "inc <- c( \"incidence\",\n",
    "          \"#  of dams with effected pups\",\n",
    "          \"# dead pups\",\n",
    "          \"# litters\",\n",
    "          \"# of animals affected\",\n",
    "          \"# of dam with effected pups\",\n",
    "          \"# of dams with affected pups\",\n",
    "          \"# of Dams with effected pups\",\n",
    "          \"# of dams with effected pups\",\n",
    "          \"# of females with resorptions\",\n",
    "          \"# premature deaths\",\n",
    "          \"#of dams with affected pups\",\n",
    "          \"fetal incicdence\",\n",
    "          \"fetal incidence\",\n",
    "          \"incidence\",\n",
    "          \"Incidence\",\n",
    "          \" incidence\", \n",
    "          \"incidences\",\n",
    "          \"incidene\",\n",
    "          \"incident\",\n",
    "          \"incidental\",\n",
    "          \"incidents\",\n",
    "          \"incidnce\",\n",
    "          \"incidnece\",\n",
    "          \"incidnence\",\n",
    "          \"incidnet\",\n",
    "          \"incincidence\",\n",
    "          \"incindence\",\n",
    "          \"indidence\",\n",
    "          \"inicidence\",\n",
    "          \"litter incidence\",\n",
    "          \"number of fetuses affected\",\n",
    "          \"total # anomalies\",\n",
    "          \"total # corpora lutea\",\n",
    "          \"total # malformations\",\n",
    "          \"total incidence\" )\n",
    "\n",
    "inc_per <- c(\"% fetal incidence\",\n",
    "             \"% incidence\",\n",
    "             \"% litter incidence\",\n",
    "             \"percent incidence\" )\n",
    "\n",
    "##Data \n",
    "trCorrection[effect_val_unit %in% inc_per , effect_val_adj := (sample_size * effect_val)/100]\n",
    "trCorrection[effect_val_unit %in% inc_per , effect_val_unit_adj := \"incidence\"]\n",
    "trCorrection[effect_val_unit %in% inc, effect_val_unit_adj := \"incidence\"]\n",
    "trCorrection[effect_val_unit == \"incidence\", effect_val_adj := effect_val]\n",
    "trCorrection[is.na(effect_val_adj), effect_val_adj := effect_val]\n",
    "\n",
    "## Correction of Continuous Data\n",
    "var_sd <- c(\"SD\", \"sd\", \"std dev\", \"Sd\", \"standard deviation\")\n",
    "var_se <- c(\"SE\", \"std error\", \"SE \" )\n",
    "var_95 <- c( \"95% confidence limit\" , \"95% +/- confidence limit\")\n",
    "\n",
    "trCorrection[effect_var_type %in% var_sd, effect_var_type_adj := \"sd\"]\n",
    "trCorrection[effect_var_type %in% var_sd, effect_var_adj := effect_var]\n",
    "trCorrection[effect_var_type %in% var_se, effect_var_type_adj := \"sd\"]\n",
    "trCorrection[effect_var_type %in% var_se, effect_var_adj := round(effect_var*sqrt(sample_size),2)]\n",
    "trCorrection[effect_var_type %in% var_95, effect_var_temp := (effect_var*2)/(2*qt(0.95, df=sample_size-1))]\n",
    "trCorrection[effect_var_type %in% var_95, effect_var_adj := round(effect_var_temp*sqrt(sample_size),2)]\n",
    "trCorrection[effect_var_type %in% var_95, effect_var_type_adj := \"sd\"]\n",
    "\n",
    "trCorrection[ , id := paste(study_id, endpoint_id, tg_effect_id, sex, sep = \"_\")]\n"
   ]
  },
  {
   "cell_type": "code",
   "execution_count": 7,
   "metadata": {},
   "outputs": [
    {
     "data": {
      "text/html": [
       "92645"
      ],
      "text/latex": [
       "92645"
      ],
      "text/markdown": [
       "92645"
      ],
      "text/plain": [
       "[1] 92645"
      ]
     },
     "metadata": {},
     "output_type": "display_data"
    }
   ],
   "source": [
    "length(unique(trCorrection$id))"
   ]
  },
  {
   "cell_type": "markdown",
   "metadata": {},
   "source": [
    "## Dichotomus Data  \n",
    "\n",
    "We can understand how BMD dichotomous data with interpretable incidence units. It is likely that not all of the studies in this table will be BMD-amenable after considering the possible issues; this is the maximum set.\n",
    "\n",
    "* Possible issues in the dataset:\n",
    "    + If controls are not available, should we use zero incidence? This may be misleading, particularly with the use of historical control data.\n",
    "    + Effect_val : some have fractional data, even though incidence data should be whole numbers. These observations may need to be dropped. \n",
    "      + example: lymph node granuloma has a 2.2 effect unit\n",
    "      \n",
    "There are two types of Dicotomous Endpoints (1) Cancer and (2) Non-Cancer   \n",
    "      "
   ]
  },
  {
   "cell_type": "code",
   "execution_count": 8,
   "metadata": {},
   "outputs": [],
   "source": [
    "# Below are the endpoints that we define and separate as cancer enpoints \n",
    "cancer <- c(\"adenocarcinoma\", \n",
    "            \"hemangioma\",             \n",
    "            \"hemangiosarcoma\", \n",
    "            \"adenoma\",  \n",
    "            \"adenoma/carcinoma combined\",                  \n",
    "            \"neoplasm nos\",                                  \n",
    "            \"carcinoma\",                                     \n",
    "            \"papilloma\",                           \n",
    "            \"mass\",                                         \n",
    "            \"nodule(s)\",                                    \n",
    "            \"interstitial cell tumor benign\",              \n",
    "            \"hematopoietic cell proliferation erythrocytic\", \n",
    "            \"eosinophilic focus\",     \n",
    "            \"foci\",          \n",
    "            \"luteoma\",\n",
    "            \"transitional epithelial carcinoma\", \n",
    "            \"fibrosarcoma\",                                     \n",
    "            \"pheochromocytoma benign\",                      \n",
    "            \"pheochromocytoma nos\",                              \n",
    "            \"leukemia\",                                                                       \n",
    "            \"fibroadenoma\",          \n",
    "            \"lymphoma malignant\",                                \n",
    "            \"lymphoma nos\",                                     \n",
    "            \"carcinoma nos\",                                \n",
    "            \"mesothelioma benign\",                               \n",
    "            \"basophilic focus\",                                  \n",
    "            \"mixed tumor nos\",                                   \n",
    "            \"granuloma\",\n",
    "            \"neoplastic nodule\",                                \n",
    "            \"polyp stromal\",     \n",
    "            \"hepatocellular carcinoma\",                          \n",
    "            \"keratoacanthoma\",                               \n",
    "            \"fibroma\",\n",
    "            \"mixed tumor malignant\",                             \n",
    "            \"interstitial cell tumor nos\",                       \n",
    "            \"palpable mass\",                                     \n",
    "            \"cystadenoma\",                                       \n",
    "            \"adenomatosis\",                                 \n",
    "            \"hepatocellular adenoma\",                            \n",
    "            \"dysplasia\" )"
   ]
  },
  {
   "cell_type": "code",
   "execution_count": 9,
   "metadata": {},
   "outputs": [],
   "source": [
    "dataCancer <- trCorrection[effect_val_unit_adj == \"incidence\" ] %>% \n",
    "  .[effect_desc %in% cancer] %>%\n",
    "  .[ , id_count := .N, by = id] %>%\n",
    "  .[ id_count >= 4] %>%\n",
    "  .[ , na.ns:=max(is.na(sample_size)), by=id] %>% # identify dataset where sample size is missing for some dose  \n",
    "  .[ , na.inc:=max(is.na(effect_val_adj)), by=id] %>% # identify dataset where incidence data is missing for some dose\n",
    "  .[ , dose.unq:=max(is.na(dose_adjusted)), by=id] %>% # identify dataset with missing dose value\n",
    "  .[ , dose_dup:=max(duplicated(dose_adjusted)), by=id] %>% # identify dataset with duplicated dose\n",
    "  .[ , all_dose_in_study:=(dose_no==(id_count-1))] %>% # identify dataset where all dose level are included\n",
    "  .[ , eff_val_na:=max(is.na(effect_val)), by=id] %>% # identify datasets with effect value missing\n",
    "  .[ , sample_size_all := min(sample_size), by=id] %>% # identify smallest sample size\n",
    "  .[ eff_val_na==0] %>%  \n",
    "  .[ na.ns==0] %>% \n",
    "  .[ na.inc==0] %>%\n",
    "  .[ dose.unq==0] %>%\n",
    "  .[ all_dose_in_study==TRUE] %>%\n",
    "  .[ dose_dup==0] %>% \n",
    "  .[ sample_size_all > 0]\n",
    "\n",
    "setnames(dataCancer, \n",
    "         c(\"dose_adjusted\", \"sample_size\",\"effect_val_adj\"), \n",
    "         c(\"doses\", \"ns\", \"incidences\"))"
   ]
  },
  {
   "cell_type": "code",
   "execution_count": 10,
   "metadata": {},
   "outputs": [
    {
     "data": {
      "text/html": [
       "1180"
      ],
      "text/latex": [
       "1180"
      ],
      "text/markdown": [
       "1180"
      ],
      "text/plain": [
       "[1] 1180"
      ]
     },
     "metadata": {},
     "output_type": "display_data"
    }
   ],
   "source": [
    "cancer_tr <- dataCancer[ , list(id, doses, ns, incidences) ]%>%\n",
    "  aggregate( . ~id, data = . , paste, collapse = \",\") %>% \n",
    "  data.table() %>%\n",
    "  .[ , c(\"study_id\", \"endpoint_id\", \"tg_effect_id\", \"sex\"):=tstrsplit(id, \"_\", fixed=TRUE)]\n",
    "\n",
    "length(unique(cancer_tr$id))\n",
    "\n",
    "## Write data to be sent to Notebook for BMDS processing \n",
    "write.csv(cancer_tr,\"cancer_tr.csv\")\n"
   ]
  },
  {
   "cell_type": "markdown",
   "metadata": {},
   "source": [
    "### Non-Cancer Dicotomous Endpoints"
   ]
  },
  {
   "cell_type": "code",
   "execution_count": 11,
   "metadata": {},
   "outputs": [],
   "source": [
    "dataNoCancer <- trCorrection[effect_val_unit_adj == \"incidence\"] %>% \n",
    "  .[!(effect_desc %in% cancer)] %>%\n",
    "  .[ , id_count := .N, by = id] %>%\n",
    "  .[ id_count >= 4] %>%\n",
    "  .[ , na.ns:=max(is.na(sample_size)), by=id] %>% # identify dataset where sample size is missing for some dose  \n",
    "  .[ , na.inc:=max(is.na(effect_val_adj)), by=id] %>% # identify dataset where incidence data is missing for some dose\n",
    "  .[ , dose.unq:=max(is.na(dose_adjusted)), by=id] %>% # identify dataset with missing dose value\n",
    "  .[ , dose_dup:=max(duplicated(dose_adjusted)), by=id] %>% # identify dataset with duplicated dose\n",
    "  .[ , all_dose_in_study:=(dose_no==(id_count-1))] %>% # identify dataset where all data dose level are included\n",
    "  .[ , eff_val_na:=max(is.na(effect_val)), by=id] %>% # identify datasets with effect value missing\n",
    "  .[ , sample_size_all := min(sample_size), by=id] %>% # identify smallest sample size\n",
    "  .[ eff_val_na==0] %>%  \n",
    "  .[ na.ns==0] %>% \n",
    "  .[ na.inc==0] %>%\n",
    "  .[ dose.unq==0] %>%\n",
    "  .[ all_dose_in_study==TRUE] %>%\n",
    "  .[ dose_dup==0] %>% \n",
    "  .[ sample_size_all > 0]"
   ]
  },
  {
   "cell_type": "code",
   "execution_count": 12,
   "metadata": {},
   "outputs": [
    {
     "data": {},
     "metadata": {},
     "output_type": "display_data"
    }
   ],
   "source": [
    "setnames(dataNoCancer, \n",
    "         c(\"dose_adjusted\", \"sample_size\",\"effect_val\"), \n",
    "         c(\"doses\", \"ns\", \"incidences\"))\n",
    "\n",
    "dataNoCancer[ , id_count := .N, by = id]\n",
    "\n",
    "dichotomous_tr <- dataNoCancer[ , list(id, doses, ns, incidences) ]%>%\n",
    "  aggregate( . ~ id, data = . , paste, collapse=\",\") %>% \n",
    "  data.table() %>%\n",
    "  .[ , c(\"study_id\", \"endpoint_id\", \"tg_effect_id\", \"sex\"):=tstrsplit(id, \"_\", fixed=TRUE)]\n",
    "\n",
    "## Write data to be sent to Notebook for BMDS processing \n",
    "write.csv(dichotomous_tr,\"dichotomous_tr.csv\")"
   ]
  },
  {
   "cell_type": "code",
   "execution_count": 13,
   "metadata": {},
   "outputs": [
    {
     "data": {
      "text/html": [
       "17360"
      ],
      "text/latex": [
       "17360"
      ],
      "text/markdown": [
       "17360"
      ],
      "text/plain": [
       "[1] 17360"
      ]
     },
     "metadata": {},
     "output_type": "display_data"
    }
   ],
   "source": [
    "length(unique(dichotomous_tr$id))"
   ]
  },
  {
   "cell_type": "markdown",
   "metadata": {},
   "source": [
    "Dichotomous data file is really large.  If computer resource or time is a problem, break the data into 4 section to run."
   ]
  },
  {
   "cell_type": "code",
   "execution_count": 14,
   "metadata": {
    "collapsed": true
   },
   "outputs": [],
   "source": [
    "dichotomous1 <- data.table(dichotomous_tr) %>%\n",
    " .[0:5000]\n",
    "\n",
    "write.csv(dichotomous1,\"dichotomous_tr1.csv\")\n",
    "\n",
    "dichotomous2 <- data.table(dichotomous_tr) %>%\n",
    " .[5001:10000]\n",
    "\n",
    "write.csv(dichotomous2,\"dichotomous_tr2.csv\")\n",
    "\n",
    "dichotomous3 <- data.table(dichotomous_tr) %>%\n",
    " .[10001:15000]\n",
    "\n",
    "write.csv(dichotomous3,\"dichotomous_tr3.csv\")\n",
    "\n",
    "dichotomous4 <- data.table(dichotomous_tr) %>%\n",
    " .[15001:17190]\n",
    "\n",
    "write.csv(dichotomous4,\"dichotomous_tr4.csv\")"
   ]
  },
  {
   "cell_type": "markdown",
   "metadata": {},
   "source": [
    "## Continuous Data  \n",
    "\n",
    "To perform BMDs for continuous data, variance estimation per dose group is needed. The availability of this information will be a large limiter on the ability to run an automated BMDS workflow. It is likely that not all of the studies in this table will be BMD-amenable after considering the possible issues; this is the maximum set. "
   ]
  },
  {
   "cell_type": "markdown",
   "metadata": {},
   "source": [
    "* Possible Issues:\n",
    "  + BMD not optimized to model effects with neg dose-response (i.e. body weigh going down)\n",
    "  + Many different effect_desc and effect_val_unit for one endpoint_target\n",
    "  + Example: Body weight\n",
    "  + Effect_desc\n",
    "    * \"body weight\"\n",
    "    * \"body weight gain\"\n",
    "  + Effect_val_unit\n",
    "    * \"g\"\n",
    "    * \"kg\"\n",
    "    * \"g/animal\"\n",
    "    * \"kg/dog/week\"\n",
    "    * \"%\"\n",
    "    * \"None\"\n",
    "    * \"kg/day\"\n",
    "    * \"g \"\n",
    "    * \"g/animal/day\"\n",
    "    * \"% body weight gain\"\n",
    "    * \"% increase\"\n",
    "    * \"g/mouse\"\n",
    "    * \"g/rat\"\n",
    "    * \"grams\"\n",
    "    * \"gram\""
   ]
  },
  {
   "cell_type": "code",
   "execution_count": 14,
   "metadata": {},
   "outputs": [],
   "source": [
    "dataContinuous <- trCorrection[!is.na(effect_var_adj)] %>%\n",
    "  .[!is.na(effect_var_type_adj)] %>%\n",
    "  .[ , id_count := .N, by = id] %>%\n",
    "  .[ id_count >= 4] %>%\n",
    "  .[ , na.ns:=max(is.na(sample_size)), by=id] %>% # identify dataset where sample size is missing for some dose  \n",
    "  .[ , na.inc:=max(is.na(effect_val_adj)), by=id] %>% # identify dataset where incidence data is missing for some dose\n",
    "  .[ , dose.unq:=max(is.na(dose_adjusted)), by=id] %>% # identify dataset with missing dose value\n",
    "  .[ , dose_dup:=max(duplicated(dose_adjusted)), by=id] %>% # identify dataset with duplicated dose\n",
    "  .[ , all_dose_in_study:=(dose_no==(id_count-1))] %>% # identify dataset where all data dose level are included\n",
    "  .[ , eff_val_na:=max(is.na(effect_val)), by=id] %>% # identify datasets with effect value missing\n",
    "  .[ , sample_size_all := min(sample_size), by=id] %>% # identify smallest sample size\n",
    "  .[ eff_val_na==0] %>%  \n",
    "  .[ na.ns==0] %>% \n",
    "  .[ na.inc==0] %>%\n",
    "  .[ dose.unq==0] %>%\n",
    "  .[ all_dose_in_study==TRUE] %>%\n",
    "  .[ dose_dup==0] %>% \n",
    "  .[ sample_size_all > 0]\n",
    "\n",
    "setnames(dataContinuous, \n",
    "         c(\"dose_adjusted\", \"sample_size\", \"effect_val_adj\", \"effect_var_adj\"), \n",
    "         c(\"doses\", \"ns\", \"means\", \"stdevs\"))\n"
   ]
  },
  {
   "cell_type": "code",
   "execution_count": 17,
   "metadata": {},
   "outputs": [
    {
     "data": {
      "text/html": [
       "<table>\n",
       "<thead><tr><th scope=col>study_id</th><th scope=col>chemical_id</th><th scope=col>dsstox_gsid</th><th scope=col>study_type</th><th scope=col>study_year</th><th scope=col>study_source</th><th scope=col>species</th><th scope=col>strain_group</th><th scope=col>admin_route</th><th scope=col>admin_method</th><th scope=col>...</th><th scope=col>effect_var_temp</th><th scope=col>id</th><th scope=col>id_count</th><th scope=col>na.ns</th><th scope=col>na.inc</th><th scope=col>dose.unq</th><th scope=col>dose_dup</th><th scope=col>all_dose_in_study</th><th scope=col>eff_val_na</th><th scope=col>sample_size_all</th></tr></thead>\n",
       "<tbody>\n",
       "\t<tr><td>70             </td><td>58739          </td><td>34496          </td><td>SUB            </td><td>1997           </td><td>opp_der        </td><td>dog            </td><td>beagle         </td><td>Oral           </td><td>Capsule        </td><td>...            </td><td>NA             </td><td>70_176_122707_F</td><td>4              </td><td>0              </td><td>0              </td><td>0              </td><td>0              </td><td>TRUE           </td><td>0              </td><td>4              </td></tr>\n",
       "\t<tr><td>70             </td><td>58739          </td><td>34496          </td><td>SUB            </td><td>1997           </td><td>opp_der        </td><td>dog            </td><td>beagle         </td><td>Oral           </td><td>Capsule        </td><td>...            </td><td>NA             </td><td>70_176_122712_M</td><td>4              </td><td>0              </td><td>0              </td><td>0              </td><td>0              </td><td>TRUE           </td><td>0              </td><td>4              </td></tr>\n",
       "\t<tr><td>70             </td><td>58739          </td><td>34496          </td><td>SUB            </td><td>1997           </td><td>opp_der        </td><td>dog            </td><td>beagle         </td><td>Oral           </td><td>Capsule        </td><td>...            </td><td>NA             </td><td>70_176_122707_F</td><td>4              </td><td>0              </td><td>0              </td><td>0              </td><td>0              </td><td>TRUE           </td><td>0              </td><td>4              </td></tr>\n",
       "\t<tr><td>70             </td><td>58739          </td><td>34496          </td><td>SUB            </td><td>1997           </td><td>opp_der        </td><td>dog            </td><td>beagle         </td><td>Oral           </td><td>Capsule        </td><td>...            </td><td>NA             </td><td>70_176_122712_M</td><td>4              </td><td>0              </td><td>0              </td><td>0              </td><td>0              </td><td>TRUE           </td><td>0              </td><td>4              </td></tr>\n",
       "\t<tr><td>70             </td><td>58739          </td><td>34496          </td><td>SUB            </td><td>1997           </td><td>opp_der        </td><td>dog            </td><td>beagle         </td><td>Oral           </td><td>Capsule        </td><td>...            </td><td>NA             </td><td>70_176_122707_F</td><td>4              </td><td>0              </td><td>0              </td><td>0              </td><td>0              </td><td>TRUE           </td><td>0              </td><td>4              </td></tr>\n",
       "\t<tr><td>70             </td><td>58739          </td><td>34496          </td><td>SUB            </td><td>1997           </td><td>opp_der        </td><td>dog            </td><td>beagle         </td><td>Oral           </td><td>Capsule        </td><td>...            </td><td>NA             </td><td>70_176_122712_M</td><td>4              </td><td>0              </td><td>0              </td><td>0              </td><td>0              </td><td>TRUE           </td><td>0              </td><td>4              </td></tr>\n",
       "</tbody>\n",
       "</table>\n"
      ],
      "text/latex": [
       "\\begin{tabular}{r|lllllllllllllllllllllllllllllllllllllllllllllll}\n",
       " study\\_id & chemical\\_id & dsstox\\_gsid & study\\_type & study\\_year & study\\_source & species & strain\\_group & admin\\_route & admin\\_method & ... & effect\\_var\\_temp & id & id\\_count & na.ns & na.inc & dose.unq & dose\\_dup & all\\_dose\\_in\\_study & eff\\_val\\_na & sample\\_size\\_all\\\\\n",
       "\\hline\n",
       "\t 70                    & 58739                 & 34496                 & SUB                   & 1997                  & opp\\_der             & dog                   & beagle                & Oral                  & Capsule               & ...                   & NA                    & 70\\_176\\_122707\\_F & 4                     & 0                     & 0                     & 0                     & 0                     & TRUE                  & 0                     & 4                    \\\\\n",
       "\t 70                    & 58739                 & 34496                 & SUB                   & 1997                  & opp\\_der             & dog                   & beagle                & Oral                  & Capsule               & ...                   & NA                    & 70\\_176\\_122712\\_M & 4                     & 0                     & 0                     & 0                     & 0                     & TRUE                  & 0                     & 4                    \\\\\n",
       "\t 70                    & 58739                 & 34496                 & SUB                   & 1997                  & opp\\_der             & dog                   & beagle                & Oral                  & Capsule               & ...                   & NA                    & 70\\_176\\_122707\\_F & 4                     & 0                     & 0                     & 0                     & 0                     & TRUE                  & 0                     & 4                    \\\\\n",
       "\t 70                    & 58739                 & 34496                 & SUB                   & 1997                  & opp\\_der             & dog                   & beagle                & Oral                  & Capsule               & ...                   & NA                    & 70\\_176\\_122712\\_M & 4                     & 0                     & 0                     & 0                     & 0                     & TRUE                  & 0                     & 4                    \\\\\n",
       "\t 70                    & 58739                 & 34496                 & SUB                   & 1997                  & opp\\_der             & dog                   & beagle                & Oral                  & Capsule               & ...                   & NA                    & 70\\_176\\_122707\\_F & 4                     & 0                     & 0                     & 0                     & 0                     & TRUE                  & 0                     & 4                    \\\\\n",
       "\t 70                    & 58739                 & 34496                 & SUB                   & 1997                  & opp\\_der             & dog                   & beagle                & Oral                  & Capsule               & ...                   & NA                    & 70\\_176\\_122712\\_M & 4                     & 0                     & 0                     & 0                     & 0                     & TRUE                  & 0                     & 4                    \\\\\n",
       "\\end{tabular}\n"
      ],
      "text/markdown": [
       "\n",
       "study_id | chemical_id | dsstox_gsid | study_type | study_year | study_source | species | strain_group | admin_route | admin_method | ... | effect_var_temp | id | id_count | na.ns | na.inc | dose.unq | dose_dup | all_dose_in_study | eff_val_na | sample_size_all | \n",
       "|---|---|---|---|---|---|\n",
       "| 70              | 58739           | 34496           | SUB             | 1997            | opp_der         | dog             | beagle          | Oral            | Capsule         | ...             | NA              | 70_176_122707_F | 4               | 0               | 0               | 0               | 0               | TRUE            | 0               | 4               | \n",
       "| 70              | 58739           | 34496           | SUB             | 1997            | opp_der         | dog             | beagle          | Oral            | Capsule         | ...             | NA              | 70_176_122712_M | 4               | 0               | 0               | 0               | 0               | TRUE            | 0               | 4               | \n",
       "| 70              | 58739           | 34496           | SUB             | 1997            | opp_der         | dog             | beagle          | Oral            | Capsule         | ...             | NA              | 70_176_122707_F | 4               | 0               | 0               | 0               | 0               | TRUE            | 0               | 4               | \n",
       "| 70              | 58739           | 34496           | SUB             | 1997            | opp_der         | dog             | beagle          | Oral            | Capsule         | ...             | NA              | 70_176_122712_M | 4               | 0               | 0               | 0               | 0               | TRUE            | 0               | 4               | \n",
       "| 70              | 58739           | 34496           | SUB             | 1997            | opp_der         | dog             | beagle          | Oral            | Capsule         | ...             | NA              | 70_176_122707_F | 4               | 0               | 0               | 0               | 0               | TRUE            | 0               | 4               | \n",
       "| 70              | 58739           | 34496           | SUB             | 1997            | opp_der         | dog             | beagle          | Oral            | Capsule         | ...             | NA              | 70_176_122712_M | 4               | 0               | 0               | 0               | 0               | TRUE            | 0               | 4               | \n",
       "\n",
       "\n"
      ],
      "text/plain": [
       "  study_id chemical_id dsstox_gsid study_type study_year study_source species\n",
       "1 70       58739       34496       SUB        1997       opp_der      dog    \n",
       "2 70       58739       34496       SUB        1997       opp_der      dog    \n",
       "3 70       58739       34496       SUB        1997       opp_der      dog    \n",
       "4 70       58739       34496       SUB        1997       opp_der      dog    \n",
       "5 70       58739       34496       SUB        1997       opp_der      dog    \n",
       "6 70       58739       34496       SUB        1997       opp_der      dog    \n",
       "  strain_group admin_route admin_method ... effect_var_temp id             \n",
       "1 beagle       Oral        Capsule      ... NA              70_176_122707_F\n",
       "2 beagle       Oral        Capsule      ... NA              70_176_122712_M\n",
       "3 beagle       Oral        Capsule      ... NA              70_176_122707_F\n",
       "4 beagle       Oral        Capsule      ... NA              70_176_122712_M\n",
       "5 beagle       Oral        Capsule      ... NA              70_176_122707_F\n",
       "6 beagle       Oral        Capsule      ... NA              70_176_122712_M\n",
       "  id_count na.ns na.inc dose.unq dose_dup all_dose_in_study eff_val_na\n",
       "1 4        0     0      0        0        TRUE              0         \n",
       "2 4        0     0      0        0        TRUE              0         \n",
       "3 4        0     0      0        0        TRUE              0         \n",
       "4 4        0     0      0        0        TRUE              0         \n",
       "5 4        0     0      0        0        TRUE              0         \n",
       "6 4        0     0      0        0        TRUE              0         \n",
       "  sample_size_all\n",
       "1 4              \n",
       "2 4              \n",
       "3 4              \n",
       "4 4              \n",
       "5 4              \n",
       "6 4              "
      ]
     },
     "metadata": {},
     "output_type": "display_data"
    }
   ],
   "source": [
    "head(dataContinuous)"
   ]
  },
  {
   "cell_type": "markdown",
   "metadata": {},
   "source": [
    "### Endpoints for Body Weight and Organ Weight "
   ]
  },
  {
   "cell_type": "code",
   "execution_count": 20,
   "metadata": {},
   "outputs": [
    {
     "data": {
      "text/html": [
       "5279"
      ],
      "text/latex": [
       "5279"
      ],
      "text/markdown": [
       "5279"
      ],
      "text/plain": [
       "[1] 5279"
      ]
     },
     "metadata": {},
     "output_type": "display_data"
    }
   ],
   "source": [
    "dataContinuousBW <- dataContinuous[endpoint_type %in% c( \"in life observation\",\"organ weight\") | endpoint_target==\"body_weight\"]\n",
    "\n",
    "continuous_BW <- dataContinuousBW[ , list(id, doses, ns, means, stdevs) ] %>%\n",
    "    aggregate( . ~ id, data = . , paste, collapse = \",\")  %>% \n",
    "    data.table() %>%\n",
    "    .[ , c(\"study_id\", \"endpoint_id\", \"tg_effect_id\", \"sex\"):=tstrsplit(id, \"_\", fixed=TRUE)]\n",
    "\n",
    "length(unique(continuous_BW$id))\n",
    "\n",
    "## Write data to be sent to Notebook for BMDS processing \n",
    "write.csv(continuous_BW, \"continuous_BW.csv\")"
   ]
  },
  {
   "cell_type": "markdown",
   "metadata": {},
   "source": [
    "### Endpoints that are Not Body Weight and Organ Weight"
   ]
  },
  {
   "cell_type": "code",
   "execution_count": 21,
   "metadata": {},
   "outputs": [
    {
     "data": {
      "text/html": [
       "3989"
      ],
      "text/latex": [
       "3989"
      ],
      "text/markdown": [
       "3989"
      ],
      "text/plain": [
       "[1] 3989"
      ]
     },
     "metadata": {},
     "output_type": "display_data"
    }
   ],
   "source": [
    "dataContinuousNotBW <- dataContinuous[!(endpoint_type %in% c( \"in life observation\",\"organ weight\") | endpoint_target==\"body_weight\")]\n",
    "\n",
    "continuous_NotBW <- dataContinuousNotBW[ , list(id, doses, ns, means, stdevs) ] %>%\n",
    "  aggregate( . ~ id, data = . , paste, collapse = \",\")  %>% \n",
    "  data.table() %>%\n",
    "  .[ , c(\"study_id\", \"endpoint_id\", \"tg_effect_id\", \"sex\"):=tstrsplit(id, \"_\", fixed=TRUE)]\n",
    "\n",
    "length(unique(continuous_NotBW$id))\n",
    "\n",
    "## Write data to be sent to Notebook for BMDS processing\n",
    "write.csv(continuous_NotBW,\"continuous_NotBW.csv\")"
   ]
  }
 ],
 "metadata": {
  "kernelspec": {
   "display_name": "R",
   "language": "R",
   "name": "ir"
  },
  "language_info": {
   "codemirror_mode": "r",
   "file_extension": ".r",
   "mimetype": "text/x-r-source",
   "name": "R",
   "pygments_lexer": "r",
   "version": "3.4.3"
  }
 },
 "nbformat": 4,
 "nbformat_minor": 2
}
