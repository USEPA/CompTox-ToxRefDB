{
 "cells": [
  {
   "cell_type": "code",
   "execution_count": null,
   "metadata": {
    "collapsed": true
   },
   "outputs": [],
   "source": [
    "import pandas as pd\n",
    "import sqlalchemy as sa\n",
    "import numpy as np\n",
    "import json"
   ]
  },
  {
   "cell_type": "code",
   "execution_count": null,
   "metadata": {
    "collapsed": true
   },
   "outputs": [],
   "source": [
    "%run ../toxref_mysql_connect.py\n",
    "# print(connect.__doc__)\n",
    "con = connect()  "
   ]
  },
  {
   "cell_type": "code",
   "execution_count": null,
   "metadata": {
    "collapsed": true
   },
   "outputs": [],
   "source": [
    "query = \"\"\"\n",
    "    SELECT \n",
    "        study.study_id,\n",
    "        study.study_type,\n",
    "        tg.tg_id,\n",
    "        tg.dose_duration,\n",
    "        tg.dose_duration_unit,\n",
    "        tg.generation,\n",
    "        study.species,\n",
    "        dose.conc,\n",
    "        dose.conc_unit,\n",
    "        tg.sex,\n",
    "        chemical.dsstox_substance_id,\n",
    "        chemical.casrn,\n",
    "        chemical.preferred_name,\n",
    "        endpoint.endpoint_category,\n",
    "        endpoint.endpoint_type,\n",
    "        endpoint.endpoint_target,\n",
    "        effect.effect_desc,\n",
    "        tg_effect.effect_desc_free,\n",
    "        tg_effect.life_stage,\n",
    "        tg_effect.target_site,\n",
    "        tg_effect.direction,\n",
    "        dose.dose_level,\n",
    "        endpoint.endpoint_id,\n",
    "        effect.effect_id,\n",
    "        tg_effect.tg_effect_id,\n",
    "        dtg.dose_adjusted,\n",
    "        dtg.dose_adjusted_unit,\n",
    "        dtg.mg_kg_day_value,\n",
    "        dtg_effect.treatment_related,\n",
    "        dtg_effect.critical_effect\n",
    "    FROM \n",
    "        study INNER JOIN dose ON dose.study_id=study.study_id\n",
    "\t\t\tINNER JOIN chemical ON chemical.chemical_id=study.chemical_id\n",
    "\t\t\t\tINNER JOIN tg ON tg.study_id=study.study_id\n",
    "\t\t\t\t\tINNER JOIN dtg ON tg.tg_id=dtg.tg_id AND dose.dose_id=dtg.dose_id\n",
    "\t\t\t\t\t\tLEFT JOIN tg_effect ON tg.tg_id=tg_effect.tg_id\n",
    "\t\t\t\t\t\t\tLEFT JOIN dtg_effect ON tg_effect.tg_effect_id=dtg_effect.tg_effect_id AND dtg.dtg_id=dtg_effect.dtg_id\n",
    "\t\t\t\t\t\t\t\tLEFT JOIN effect ON effect.effect_id=tg_effect.effect_id\n",
    "\t\t\t\t\t\t\t\t\tLEFT JOIN endpoint ON endpoint.endpoint_id=effect.endpoint_id\n",
    "    AND study.study_id NOT IN(6940,6955) #pfizer studies with incomplete data\n",
    "    ;\n",
    "                \n",
    "        \"\"\""
   ]
  },
  {
   "cell_type": "code",
   "execution_count": null,
   "metadata": {
    "collapsed": true
   },
   "outputs": [],
   "source": [
    "#configs\n",
    "effect_profile_id = 2\n",
    "pod_level = \"chemical\" #study vs chemical level pods"
   ]
  },
  {
   "cell_type": "code",
   "execution_count": null,
   "metadata": {
    "collapsed": true
   },
   "outputs": [],
   "source": [
    "studies = pd.read_sql(\"study\",con)\n",
    "effect_profile = pd.read_sql(\"effect_profile\",con).merge(\n",
    "    pd.read_sql(\"effect_profile_group\",con)).merge(\n",
    "        pd.read_sql(\"effect_profile_group_toxrefdb\",con))\n",
    "effect_profile = effect_profile[effect_profile.effect_profile_id==effect_profile_id].copy()\n",
    "df = pd.read_sql(query,con)"
   ]
  },
  {
   "cell_type": "code",
   "execution_count": null,
   "metadata": {
    "collapsed": true
   },
   "outputs": [],
   "source": [
    "# exclude studies that fail the nel<=lel and/or noael<=loael checks due to stagered dose adjusted based on gender\n",
    "# df = df[df[\"study_id\"].isin([1450,552,2764,2766,3879,3126,4450,542,2764,4632,4856])==False].copy()\n",
    "\n",
    "df = df.merge(effect_profile,how=\"left\")\n",
    "\n",
    "# if effect_profile_id==1:\n",
    "#     df = df.merge(effect_profile,how=\"left\",left_on=\"tg_effect_id\",right_on=\"toxrefdb_id\")\n",
    "# elif effect_profile_id==2:\n",
    "#     df = df.merge(effect_profile,left_on=\"endpoint_id\",right_on=\"toxrefdb_id\")"
   ]
  },
  {
   "cell_type": "code",
   "execution_count": null,
   "metadata": {
    "collapsed": true
   },
   "outputs": [],
   "source": [
    "if pod_level==\"study\":\n",
    "    df_index_names = [\"dsstox_substance_id\",\"study_id\",\"group_id\"]\n",
    "elif pod_level==\"chemical\":\n",
    "    df_index_names = [\"dsstox_substance_id\",\"group_id\"]\n",
    "df_column_names = [\"pod_type\",\"qualifier\",\"pod_value\",\"pod_unit\",\"mg_kg_day_value\",\"dose_level\",\"max_dose_level\",\"tg_effect_ids\"]"
   ]
  },
  {
   "cell_type": "code",
   "execution_count": null,
   "metadata": {
    "collapsed": true
   },
   "outputs": [],
   "source": [
    "# update the missing dose_adjusted and corresponding unit with the conc and conc_unit\n",
    "df.update(pd.Series(df[df.dose_adjusted.isnull()].conc_unit.values, \n",
    "                    name=\"dose_adjusted_unit\",\n",
    "                    index=df[df.dose_adjusted.isnull()].index.values))\n",
    "df.update(pd.Series(df[df.dose_adjusted.isnull()].conc.values, \n",
    "                    name=\"dose_adjusted\",\n",
    "                    index=df[df.dose_adjusted.isnull()].index.values))\n",
    "df.fillna(\"nan\",inplace=True)"
   ]
  },
  {
   "cell_type": "code",
   "execution_count": null,
   "metadata": {
    "collapsed": true
   },
   "outputs": [],
   "source": [
    "def loael(x):\n",
    "    t = \"loael\"\n",
    "    x = x.replace(\"nan\",np.nan)\n",
    "    if len(x[x.critical_effect==1]) > 0:\n",
    "        qual = \"'='\"\n",
    "        val = x[x.critical_effect==1].dose_adjusted.min()\n",
    "        indx = x[(x.critical_effect==1)&(x.dose_adjusted==val)].index.values[0]\n",
    "        indxs = x[(x.critical_effect==1)&(x.dose_adjusted==val)].index.values\n",
    "        tg_id = x.loc[indx].tg_id\n",
    "        val_dl = x.loc[indx].dose_level\n",
    "\n",
    "        dls = x[x.tg_id==tg_id].dose_level.sort_values().unique()\n",
    "        dl_indx = list(dls).index(val_dl)\n",
    "\n",
    "        val_unit = x.loc[indx].dose_adjusted_unit\n",
    "        mkd = x.loc[indx].mg_kg_day_value\n",
    "        max_dl = dls[-1]\n",
    "        tg_effect_ids = x.loc[indxs].tg_effect_id.values\n",
    "#         toxrefdb_refs = x[x.dose_adjusted==x[x.critical_effect==1].dose_adjusted.min()][[\"toxrefdb_id\",\n",
    "#                                                                                            \"toxrefdb_table\"]].values\n",
    "    else: #check to make sure it's not an empty dataframe\n",
    "        qual = \">\"\n",
    "        val_dl = x.dose_level.max()\n",
    "        val = x[x.dose_level==val_dl].dose_adjusted.min()\n",
    "        if not np.isnan(val):\n",
    "            indx = x[x.dose_adjusted==val].index.values[0]\n",
    "            indxs = x[x.dose_adjusted==val].index.values\n",
    "        else:\n",
    "            indx = x[x.dose_level==val_dl].index.values[0]\n",
    "            indxs = x[x.dose_level==val_dl].index.values\n",
    "        val_unit = x.loc[indx].dose_adjusted_unit\n",
    "        mkd = x.loc[indx].mg_kg_day_value\n",
    "        val_dl = x.dose_level.max()\n",
    "        max_dl = val_dl\n",
    "        tg_effect_ids = x.loc[indxs].tg_effect_id.values\n",
    "#         toxrefdb_refs = x[x.dose_adjusted==x.dose_adjusted.max()][[\"toxrefdb_id\",\"toxrefdb_table\"]].values\n",
    "#     return (t,qual,val,val_unit,val_dl,max_dl,tg_effect_ids,toxrefdb_refs)\n",
    "    return (t,qual,val,val_unit,mkd,val_dl,max_dl,tg_effect_ids)"
   ]
  },
  {
   "cell_type": "code",
   "execution_count": null,
   "metadata": {
    "collapsed": true
   },
   "outputs": [],
   "source": [
    "def noael(x):\n",
    "    t = \"noael\"\n",
    "    x = x.replace(\"nan\",np.nan)\n",
    "    if len(x[x.critical_effect==1]) > 0:\n",
    "        val = x[x.critical_effect==1].dose_adjusted.min()\n",
    "        indx = x[(x.critical_effect==1)&(x.dose_adjusted==val)].index.values[0]\n",
    "        indxs = x[(x.critical_effect==1)&(x.dose_adjusted==val)].index.values\n",
    "        tg_id = x.loc[indx].tg_id\n",
    "        val_dl = x.loc[indx].dose_level\n",
    "        \n",
    "        dls = x[x.tg_id==tg_id].dose_level.sort_values().unique()\n",
    "        dl_indx = list(dls).index(val_dl)\n",
    "        max_dl = dls[-1]\n",
    "        \n",
    "        if dls[dl_indx-1] == 0: # means ce is at lowest dose (dose_level 1)\n",
    "            qual = \"<\"\n",
    "            val_unit = x.loc[indx].dose_adjusted_unit\n",
    "            mkd = x.loc[indx].mg_kg_day_value\n",
    "\n",
    "#             toxrefdb_refs = x[x.dose_adjusted==x[x.dose_level==dl+1].dose_adjusted.min()][[\"toxrefdb_id\",\n",
    "#                                                                                          \"toxrefdb_table\"]].values\n",
    "            tg_effect_ids = x.loc[indxs].tg_effect_id.values\n",
    "        else:\n",
    "            qual = \"'='\"\n",
    "            val_dl = dls[dl_indx-1]\n",
    "            indx = x[(x.tg_id==tg_id)&(x.dose_level==val_dl)].index.values[0]\n",
    "            indxs = x[(x.tg_id==tg_id)&(x.dose_level==val_dl)].index.values\n",
    "            val = x.loc[indx].dose_adjusted\n",
    "            val_unit = x.loc[indx].dose_adjusted_unit\n",
    "            mkd = x.loc[indx].mg_kg_day_value\n",
    "            \n",
    "#             toxrefdb_refs = x[x.dose_adjusted==x[x.dose_level==dl].dose_adjusted.max()][[\"toxrefdb_id\",\n",
    "#                                                                                          \"toxrefdb_table\"]].values\n",
    "            tg_effect_ids = x.loc[indxs].tg_effect_id.values\n",
    "    else:\n",
    "        qual = \">=\"\n",
    "        val_dl = x.dose_level.max()\n",
    "        val = x[x.dose_level==val_dl].dose_adjusted.min()\n",
    "        if not np.isnan(val):\n",
    "            indx = x[x.dose_adjusted==val].index.values[0]\n",
    "            indxs = x[x.dose_adjusted==val].index.values\n",
    "        else:\n",
    "            indx = x[x.dose_level==val_dl].index.values[0]\n",
    "            indxs = x[x.dose_level==val_dl].index.values\n",
    "        val_unit = x.loc[indx].dose_adjusted_unit\n",
    "        mkd = x.loc[indx].mg_kg_day_value\n",
    "        val_dl = x.dose_level.max()\n",
    "        max_dl = val_dl\n",
    "        tg_effect_ids = x.loc[indxs].tg_effect_id.values\n",
    "#         toxrefdb_refs = x[x.dose_adjusted==x.dose_adjusted.max()][[\"toxrefdb_id\",\"toxrefdb_table\"]].values\n",
    "#     return (t,qual,val,val_unit,val_dl,max_dl,toxrefdb_refs)\n",
    "    return (t,qual,val,val_unit,mkd,val_dl,max_dl,tg_effect_ids)"
   ]
  },
  {
   "cell_type": "code",
   "execution_count": null,
   "metadata": {
    "collapsed": true
   },
   "outputs": [],
   "source": [
    "def lel(x):\n",
    "    t = \"lel\"\n",
    "    x = x.replace(\"nan\",np.nan)\n",
    "    if len(x[x.treatment_related==1]) > 0:\n",
    "        qual = \"'='\"\n",
    "        val = x[x.treatment_related==1].dose_adjusted.min()\n",
    "        indx = x[(x.treatment_related==1)&(x.dose_adjusted==val)].index.values[0]\n",
    "        indxs = x[(x.treatment_related==1)&(x.dose_adjusted==val)].index.values\n",
    "        tg_id = x.loc[indx].tg_id\n",
    "        val_dl = x.loc[indx].dose_level\n",
    "        \n",
    "        dls = x[x.tg_id==tg_id].dose_level.sort_values().unique()\n",
    "        dl_indx = list(dls).index(val_dl)\n",
    "        \n",
    "        val_unit = x.loc[indx].dose_adjusted_unit\n",
    "        mkd = x.loc[indx].mg_kg_day_value\n",
    "        max_dl = dls[-1]\n",
    "        tg_effect_ids = x.loc[indxs].tg_effect_id.values\n",
    "#         toxrefdb_refs = x[x.dose_adjusted==x[x.treatment_related==1].dose_adjusted.min()][[\"toxrefdb_id\",\n",
    "#                                                                                            \"toxrefdb_table\"]].values\n",
    "    else:\n",
    "        qual = \">\"\n",
    "        val_dl = x.dose_level.max()\n",
    "        val = x[x.dose_level==val_dl].dose_adjusted.min()\n",
    "        if not np.isnan(val):\n",
    "            indx = x[x.dose_adjusted==val].index.values[0]\n",
    "            indxs = x[x.dose_adjusted==val].index.values\n",
    "        else:\n",
    "            indx = x[x.dose_level==val_dl].index.values[0]\n",
    "            indxs = x[x.dose_level==val_dl].index.values\n",
    "        val_unit = x.loc[indx].dose_adjusted_unit\n",
    "        mkd = x.loc[indx].mg_kg_day_value\n",
    "        val_dl = x.dose_level.max()\n",
    "        max_dl = val_dl\n",
    "        tg_effect_ids = x.loc[indxs].tg_effect_id.values\n",
    "#         toxrefdb_refs = x[x.dose_adjusted==x.dose_adjusted.max()][[\"toxrefdb_id\",\"toxrefdb_table\"]].values\n",
    "#     return (t,qual,val,val_unit,val_dl,max_dl,toxrefdb_refs)\n",
    "    return (t,qual,val,val_unit,mkd,val_dl,max_dl,tg_effect_ids)"
   ]
  },
  {
   "cell_type": "code",
   "execution_count": null,
   "metadata": {
    "collapsed": true
   },
   "outputs": [],
   "source": [
    "def nel(x):\n",
    "    t = \"nel\"\n",
    "    x = x.replace(\"nan\",np.nan)\n",
    "    if len(x[x.treatment_related==1]) > 0:\n",
    "        val = x[x.treatment_related==1].dose_adjusted.min()\n",
    "        indx = x[(x.treatment_related==1)&(x.dose_adjusted==val)].index.values[0]\n",
    "        indxs = x[(x.treatment_related==1)&(x.dose_adjusted==val)].index.values\n",
    "        tg_id = x.loc[indx].tg_id\n",
    "        val_dl = x.loc[indx].dose_level\n",
    "        \n",
    "        dls = x[x.tg_id==tg_id].dose_level.sort_values().unique()\n",
    "        dl_indx = list(dls).index(val_dl)\n",
    "        max_dl = dls[-1]\n",
    "        \n",
    "        if dls[dl_indx-1] == 0: # means ce is at lowest dose (dose_level 1)\n",
    "            qual = \"<\"\n",
    "            val_unit = x.loc[indx].dose_adjusted_unit\n",
    "            mkd = x.loc[indx].mg_kg_day_value\n",
    "\n",
    "#             toxrefdb_refs = x[x.dose_adjusted==x[x.dose_level==dl+1].dose_adjusted.min()][[\"toxrefdb_id\",\n",
    "#                                                                                          \"toxrefdb_table\"]].values\n",
    "            tg_effect_ids = x.loc[indxs].tg_effect_id.values\n",
    "        else:\n",
    "            qual = \"'='\"\n",
    "            val_dl = dls[dl_indx-1]\n",
    "            indx = x[(x.tg_id==tg_id)&(x.dose_level==val_dl)].index.values[0]\n",
    "            indxs = x[(x.tg_id==tg_id)&(x.dose_level==val_dl)].index.values\n",
    "            val = x.loc[indx].dose_adjusted\n",
    "            val_unit = x.loc[indx].dose_adjusted_unit\n",
    "            mkd = x.loc[indx].mg_kg_day_value\n",
    "            \n",
    "#             toxrefdb_refs = x[x.dose_adjusted==x[x.dose_level==dl].dose_adjusted.max()][[\"toxrefdb_id\",\n",
    "#                                                                                          \"toxrefdb_table\"]].values\n",
    "            tg_effect_ids = x.loc[indxs].tg_effect_id.values\n",
    "    else:\n",
    "        qual = \">=\"\n",
    "        val_dl = x.dose_level.max()\n",
    "        val = x[x.dose_level==val_dl].dose_adjusted.min()\n",
    "        if not np.isnan(val):\n",
    "            indx = x[x.dose_adjusted==val].index.values[0]\n",
    "            indxs = x[x.dose_adjusted==val].index.values\n",
    "        else:\n",
    "            indx = x[x.dose_level==val_dl].index.values[0]\n",
    "            indxs = x[x.dose_level==val_dl].index.values\n",
    "        val_unit = x.loc[indx].dose_adjusted_unit\n",
    "        mkd = x.loc[indx].mg_kg_day_value\n",
    "        val_dl = x.dose_level.max()\n",
    "        max_dl = val_dl\n",
    "        tg_effect_ids = x.loc[indxs].tg_effect_id.values\n",
    "#         toxrefdb_refs = x[x.dose_adjusted==x.dose_adjusted.max()][[\"toxrefdb_id\",\"toxrefdb_table\"]].values\n",
    "#     return (t,qual,val,val_unit,val_dl,max_dl,toxrefdb_refs)\n",
    "    return (t,qual,val,val_unit,mkd,val_dl,max_dl,tg_effect_ids)"
   ]
  },
  {
   "cell_type": "code",
   "execution_count": null,
   "metadata": {},
   "outputs": [],
   "source": [
    "df_loael = pd.DataFrame(df.groupby(df_index_names).apply(lambda x: loael(x)).to_dict()).T\n",
    "df_loael.columns = df_column_names\n",
    "df_loael.index.set_names(df_index_names,inplace=True)"
   ]
  },
  {
   "cell_type": "code",
   "execution_count": null,
   "metadata": {
    "collapsed": true
   },
   "outputs": [],
   "source": [
    "df_noael = pd.DataFrame(df.groupby(df_index_names).apply(lambda x: noael(x)).to_dict()).T\n",
    "df_noael.columns = df_column_names\n",
    "df_noael.index.set_names(df_index_names,inplace=True)"
   ]
  },
  {
   "cell_type": "code",
   "execution_count": null,
   "metadata": {
    "collapsed": true
   },
   "outputs": [],
   "source": [
    "df_lel = pd.DataFrame(df.groupby(df_index_names).apply(lambda x: lel(x)).to_dict()).T\n",
    "df_lel.columns = df_column_names\n",
    "df_lel.index.set_names(df_index_names,inplace=True)"
   ]
  },
  {
   "cell_type": "code",
   "execution_count": null,
   "metadata": {
    "collapsed": true
   },
   "outputs": [],
   "source": [
    "df_nel = pd.DataFrame(df.groupby(df_index_names).apply(lambda x: nel(x)).to_dict()).T\n",
    "df_nel.columns = df_column_names\n",
    "df_nel.index.set_names(df_index_names,inplace=True)"
   ]
  },
  {
   "cell_type": "code",
   "execution_count": null,
   "metadata": {
    "collapsed": true
   },
   "outputs": [],
   "source": [
    "pods = pd.concat([df_loael,df_noael,df_lel,df_nel])"
   ]
  },
  {
   "cell_type": "code",
   "execution_count": null,
   "metadata": {
    "collapsed": true
   },
   "outputs": [],
   "source": [
    "pods[\"dsstox_substance_id\"] = pods.index.get_level_values(\"dsstox_substance_id\")\n",
    "if pod_level==\"study\":\n",
    "    pods[\"study_id\"] = pods.index.get_level_values(\"study_id\")\n",
    "pods[\"group_id\"] = pods.index.get_level_values(\"group_id\")"
   ]
  },
  {
   "cell_type": "code",
   "execution_count": null,
   "metadata": {},
   "outputs": [],
   "source": [
    "pods = pods.merge(pd.read_sql(\"chemical\",con),on=\"dsstox_substance_id\")"
   ]
  },
  {
   "cell_type": "code",
   "execution_count": null,
   "metadata": {},
   "outputs": [],
   "source": [
    "pods = pods.replace(\"nan\",np.nan).fillna(value={\"group_id\":-1})\n",
    "pods[\"effect_profile_id\"] = effect_profile_id"
   ]
  },
  {
   "cell_type": "code",
   "execution_count": null,
   "metadata": {},
   "outputs": [],
   "source": [
    "pods = pods.merge(pd.read_sql(\"effect_profile\",con).merge(pd.read_sql(\"effect_profile_group\",con)),how=\"left\")"
   ]
  },
  {
   "cell_type": "code",
   "execution_count": null,
   "metadata": {},
   "outputs": [],
   "source": [
    "# len(pods[pods.casrn.isin(missing_chems.casrn)].casrn.unique())"
   ]
  },
  {
   "cell_type": "code",
   "execution_count": null,
   "metadata": {},
   "outputs": [],
   "source": [
    "pods[\"pod_value\"] = pods.pod_value.astype(float)\n",
    "pods[\"mg_kg_day_value\"] = pods.mg_kg_day_value.astype(float).round(8)\n",
    "pods[\"dose_level\"] = pods.dose_level.astype(int)\n",
    "pods[\"max_dose_level\"] = pods.max_dose_level.astype(int)\n",
    "pods[\"chemical_id\"] = pods.chemical_id.astype(int)\n",
    "if pod_level==\"study\":\n",
    "    pods[\"study_id\"] = pods.study_id.astype(int)\n",
    "pods[\"effect_profile_id\"] = pods.effect_profile_id.astype(int)\n",
    "pods[\"group_id\"] = pods.group_id.astype(int)\n",
    "\n",
    "if pod_level==\"study\":\n",
    "    pods[[\"pod_type\",\"qualifier\",\"pod_value\",\"pod_unit\",\"mg_kg_day_value\",\"dose_level\",\n",
    "          \"max_dose_level\",\"chemical_id\",\"study_id\",\n",
    "          \"effect_profile_id\",\"group_id\"]].drop_duplicates().to_sql(\"pod\",con,if_exists=\"append\",\n",
    "                                                                                            index=False)\n",
    "elif pod_level==\"chemical\":\n",
    "    pods[[\"pod_type\",\"qualifier\",\"pod_value\",\"pod_unit\",\"mg_kg_day_value\",\"dose_level\",\n",
    "          \"max_dose_level\",\"chemical_id\",\n",
    "          \"effect_profile_id\",\"group_id\"]].drop_duplicates().to_sql(\"pod\",con,if_exists=\"append\",\n",
    "                                                                                            index=False)"
   ]
  },
  {
   "cell_type": "code",
   "execution_count": null,
   "metadata": {
    "collapsed": true
   },
   "outputs": [],
   "source": [
    "if pod_level==\"study\":\n",
    "    pod_tbl = pd.read_sql(f\"SELECT * FROM pod WHERE study_id IS NOT NULL AND effect_profile_id={effect_profile_id}\",con)\n",
    "elif pod_level==\"chemical\":\n",
    "    pod_tbl = pd.read_sql(f\"SELECT * FROM pod WHERE study_id IS NULL AND effect_profile_id={effect_profile_id}\",con)"
   ]
  },
  {
   "cell_type": "code",
   "execution_count": null,
   "metadata": {},
   "outputs": [],
   "source": [
    "data = []\n",
    "for i,row in pod_tbl.merge(pods)[[\"tg_effect_ids\",\"pod_id\"]].iterrows():\n",
    "    for tg_effect_id in row.tg_effect_ids:\n",
    "        data.append([tg_effect_id,row.pod_id])\n",
    "pd.DataFrame(data,columns=[\"tg_effect_id\",\"pod_id\"]).dropna().to_sql(\"pod_tg_effect\",con,if_exists=\"append\",index=False)"
   ]
  },
  {
   "cell_type": "code",
   "execution_count": null,
   "metadata": {
    "collapsed": true
   },
   "outputs": [],
   "source": []
  }
 ],
 "metadata": {
  "kernelspec": {
   "display_name": "Python 3",
   "language": "python",
   "name": "python3"
  },
  "language_info": {
   "codemirror_mode": {
    "name": "ipython",
    "version": 3
   },
   "file_extension": ".py",
   "mimetype": "text/x-python",
   "name": "python",
   "nbconvert_exporter": "python",
   "pygments_lexer": "ipython3",
   "version": "3.6.3"
  }
 },
 "nbformat": 4,
 "nbformat_minor": 1
}
