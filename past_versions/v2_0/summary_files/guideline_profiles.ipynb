{
 "cells": [
  {
   "cell_type": "code",
   "execution_count": 5,
   "metadata": {
    "collapsed": true
   },
   "outputs": [],
   "source": [
    "import sqlalchemy as sa\n",
    "import pandas as pd"
   ]
  },
  {
   "cell_type": "code",
   "execution_count": 10,
   "metadata": {},
   "outputs": [],
   "source": [
    "%run ../toxref_mysql_connect.py\n",
    "# print(connect.__doc__)\n",
    "con = connect()  "
   ]
  },
  {
   "cell_type": "code",
   "execution_count": 11,
   "metadata": {},
   "outputs": [
    {
     "name": "stderr",
     "output_type": "stream",
     "text": [
      "/share/home/kpaulfri/anaconda3/lib/python3.6/site-packages/pymysql/cursors.py:166: Warning: (1287, \"'@@tx_isolation' is deprecated and will be removed in a future release. Please use '@@transaction_isolation' instead\")\n",
      "  result = self._query(query)\n"
     ]
    }
   ],
   "source": [
    "writer = pd.ExcelWriter(\"guideline_profiles.xlsx\")\n",
    "pd.read_sql(\"\"\"\n",
    "SELECT \n",
    "\tguideline.guideline_id,\n",
    "    guideline.guideline_number,\n",
    "    guideline.name,\n",
    "    guideline.profile_name,\n",
    "    guideline.description,\n",
    "    guideline_profile.guideline_profile_id,\n",
    "    guideline_profile.obs_status,\n",
    "    guideline_profile.description,\n",
    "    endpoint.endpoint_id,\n",
    "    endpoint.endpoint_category,\n",
    "    endpoint.endpoint_type,\n",
    "    endpoint.endpoint_target\n",
    "FROM \n",
    "\tguideline INNER JOIN guideline_profile ON guideline.guideline_id=guideline_profile.guideline_id\n",
    "\t\tINNER JOIN endpoint ON endpoint.endpoint_id=guideline_profile.endpoint_id\n",
    "\"\"\",con).to_excel(writer,index=False,merge_cells=False)\n",
    "writer.save()"
   ]
  },
  {
   "cell_type": "code",
   "execution_count": null,
   "metadata": {
    "collapsed": true
   },
   "outputs": [],
   "source": []
  }
 ],
 "metadata": {
  "kernelspec": {
   "display_name": "Python 3",
   "language": "python",
   "name": "python3"
  },
  "language_info": {
   "codemirror_mode": {
    "name": "ipython",
    "version": 3
   },
   "file_extension": ".py",
   "mimetype": "text/x-python",
   "name": "python",
   "nbconvert_exporter": "python",
   "pygments_lexer": "ipython3",
   "version": "3.6.1"
  }
 },
 "nbformat": 4,
 "nbformat_minor": 2
}
