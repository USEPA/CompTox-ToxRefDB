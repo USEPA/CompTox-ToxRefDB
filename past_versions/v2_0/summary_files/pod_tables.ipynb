{
 "cells": [
  {
   "cell_type": "code",
   "execution_count": 12,
   "metadata": {
    "collapsed": true
   },
   "outputs": [],
   "source": [
    "import pandas as pd\n",
    "import sqlalchemy as sa\n",
    "import numpy as np\n",
    "import json"
   ]
  },
  {
   "cell_type": "code",
   "execution_count": 13,
   "metadata": {
    "collapsed": true
   },
   "outputs": [],
   "source": [
    "%run ../toxref_mysql_connect.py\n",
    "# print(connect.__doc__)\n",
    "con = connect()  "
   ]
  },
  {
   "cell_type": "code",
   "execution_count": 14,
   "metadata": {},
   "outputs": [
    {
     "name": "stderr",
     "output_type": "stream",
     "text": [
      "/share/home/kpaulfri/anaconda3/lib/python3.6/site-packages/pymysql/cursors.py:166: Warning: (1287, \"'@@tx_isolation' is deprecated and will be removed in a future release. Please use '@@transaction_isolation' instead\")\n",
      "  result = self._query(query)\n"
     ]
    }
   ],
   "source": [
    "effect_profile_id=2\n",
    "pods = pd.read_sql(\"pod\",con).merge(pd.read_sql(\"pod_tg_effect\",con))"
   ]
  },
  {
   "cell_type": "code",
   "execution_count": 15,
   "metadata": {
    "collapsed": true
   },
   "outputs": [],
   "source": [
    "studies = pd.read_sql(\"study\",con)"
   ]
  },
  {
   "cell_type": "code",
   "execution_count": 16,
   "metadata": {
    "collapsed": true
   },
   "outputs": [],
   "source": [
    "chemicals = pd.read_sql(\"chemical\",con)"
   ]
  },
  {
   "cell_type": "code",
   "execution_count": 17,
   "metadata": {
    "collapsed": true
   },
   "outputs": [],
   "source": [
    "effect_profile_group = pd.read_sql(\"effect_profile_group\",con)"
   ]
  },
  {
   "cell_type": "code",
   "execution_count": 18,
   "metadata": {
    "collapsed": true
   },
   "outputs": [],
   "source": [
    "effects = pd.read_sql(\"endpoint\",con).merge(pd.read_sql(\"effect\",con)).merge(pd.read_sql(\"tg_effect\",con))"
   ]
  },
  {
   "cell_type": "code",
   "execution_count": 19,
   "metadata": {
    "collapsed": true
   },
   "outputs": [],
   "source": [
    "pods = chemicals.merge(pods).merge(effect_profile_group[effect_profile_group.effect_profile_id==effect_profile_id]).merge(effects,on=\"tg_effect_id\")"
   ]
  },
  {
   "cell_type": "code",
   "execution_count": 20,
   "metadata": {
    "collapsed": true
   },
   "outputs": [],
   "source": [
    "pods[\"effect\"]=pods[[\"endpoint_category\",\"endpoint_type\",\"endpoint_target\",\"effect_desc\"]].apply(\";\".join,axis=1)"
   ]
  },
  {
   "cell_type": "code",
   "execution_count": 21,
   "metadata": {
    "collapsed": true
   },
   "outputs": [],
   "source": [
    "chemical_level_pods = pd.ExcelWriter(f\"chemical_level_pods_profile{effect_profile_id}.xlsx\")\n",
    "pods[pods.study_id.isnull()][[\"dsstox_substance_id\",\"casrn\",\"preferred_name\",\"pod_type\",\n",
    "      \"qualifier\",\"pod_value\",\"pod_unit\",\"mg_kg_day_value\",\"dose_level\",\n",
    "      \"max_dose_level\",\"group_name\",\"endpoint_category\",\n",
    "      \"endpoint_type\",\"endpoint_target\",\"effect_desc\",\"effect\"]].drop_duplicates().groupby(\n",
    "    [\"dsstox_substance_id\",\"casrn\",\"preferred_name\",\"pod_type\",\n",
    "      \"qualifier\",\"pod_value\",\"pod_unit\",\"mg_kg_day_value\",\"dose_level\",\n",
    "      \"max_dose_level\",\"group_name\"]).effect.apply(\"|\".join).sort_index().to_excel(chemical_level_pods,merge_cells=False)\n",
    "chemical_level_pods.save()"
   ]
  },
  {
   "cell_type": "code",
   "execution_count": 22,
   "metadata": {
    "collapsed": true
   },
   "outputs": [],
   "source": [
    "study_level_pods = pd.ExcelWriter(f\"study_level_pods_profile{effect_profile_id}.xlsx\")\n",
    "pods[pods.study_id.isnull()==False][[\"dsstox_substance_id\",\"casrn\",\"preferred_name\",\"study_id\",\"pod_type\",\n",
    "      \"qualifier\",\"pod_value\",\"pod_unit\",\"mg_kg_day_value\",\"dose_level\",\n",
    "      \"max_dose_level\",\"group_name\",\"endpoint_category\",\n",
    "      \"endpoint_type\",\"endpoint_target\",\"effect_desc\",\"effect\"]].drop_duplicates().groupby(\n",
    "    [\"dsstox_substance_id\",\"casrn\",\"preferred_name\",\"study_id\",\"pod_type\",\n",
    "      \"qualifier\",\"pod_value\",\"pod_unit\",\"mg_kg_day_value\",\"dose_level\",\n",
    "      \"max_dose_level\",\"group_name\"]).effect.apply(\"|\".join).sort_index().to_excel(study_level_pods,merge_cells=False)\n",
    "study_level_pods.save()"
   ]
  },
  {
   "cell_type": "code",
   "execution_count": null,
   "metadata": {
    "collapsed": true
   },
   "outputs": [],
   "source": []
  },
  {
   "cell_type": "code",
   "execution_count": null,
   "metadata": {
    "collapsed": true
   },
   "outputs": [],
   "source": []
  }
 ],
 "metadata": {
  "kernelspec": {
   "display_name": "Python 3",
   "language": "python",
   "name": "python3"
  },
  "language_info": {
   "codemirror_mode": {
    "name": "ipython",
    "version": 3
   },
   "file_extension": ".py",
   "mimetype": "text/x-python",
   "name": "python",
   "nbconvert_exporter": "python",
   "pygments_lexer": "ipython3",
   "version": "3.6.1"
  }
 },
 "nbformat": 4,
 "nbformat_minor": 1
}
