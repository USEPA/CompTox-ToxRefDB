{
 "cells": [
  {
   "cell_type": "code",
   "execution_count": 1,
   "metadata": {
    "collapsed": true
   },
   "outputs": [],
   "source": [
    "import pandas as pd"
   ]
  },
  {
   "cell_type": "code",
   "execution_count": 2,
   "metadata": {
    "collapsed": true
   },
   "outputs": [],
   "source": [
    "%run ../toxref_mysql_connect.py\n",
    "# print(connect.__doc__)\n",
    "con = connect()  "
   ]
  },
  {
   "cell_type": "code",
   "execution_count": 3,
   "metadata": {},
   "outputs": [
    {
     "name": "stderr",
     "output_type": "stream",
     "text": [
      "/share/home/kpaulfri/anaconda3/lib/python3.6/site-packages/pymysql/cursors.py:166: Warning: (1287, \"'@@tx_isolation' is deprecated and will be removed in a future release. Please use '@@transaction_isolation' instead\")\n",
      "  result = self._query(query)\n"
     ]
    }
   ],
   "source": [
    "effect_profile_group = pd.read_sql(\"effect_profile\",con).merge(pd.read_sql(\"effect_profile_group\",con))"
   ]
  },
  {
   "cell_type": "code",
   "execution_count": 4,
   "metadata": {
    "collapsed": true
   },
   "outputs": [],
   "source": [
    "# can also merge \"effect_profile_group_toxrefdb\" table to get corresponding endpoints and effects for the effect grouping.\n",
    "# This returns over 300k rows\n",
    "#\n",
    "# effect_profile_group = effect_profile_group.merge(\n",
    "#     pd.read_sql(\"effect_profile_group_toxrefdb\",con)).merge(\n",
    "#     pd.read_sql(\"endpoint\",con),left_on=\"toxrefdb_id\",right_on=\"endpoint_id\").merge(pd.read_sql(\"effect\",con))"
   ]
  },
  {
   "cell_type": "code",
   "execution_count": 5,
   "metadata": {
    "collapsed": true
   },
   "outputs": [],
   "source": [
    "effect_groups = pd.ExcelWriter(\"effect_groups.xlsx\")\n",
    "effect_profile_group.to_excel(effect_groups,merge_cells=False)\n",
    "effect_groups.save()"
   ]
  },
  {
   "cell_type": "code",
   "execution_count": null,
   "metadata": {
    "collapsed": true
   },
   "outputs": [],
   "source": []
  }
 ],
 "metadata": {
  "kernelspec": {
   "display_name": "Python 3",
   "language": "python",
   "name": "python3"
  },
  "language_info": {
   "codemirror_mode": {
    "name": "ipython",
    "version": 3
   },
   "file_extension": ".py",
   "mimetype": "text/x-python",
   "name": "python",
   "nbconvert_exporter": "python",
   "pygments_lexer": "ipython3",
   "version": "3.6.1"
  }
 },
 "nbformat": 4,
 "nbformat_minor": 2
}
