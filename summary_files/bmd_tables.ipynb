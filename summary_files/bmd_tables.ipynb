{
 "cells": [
  {
   "cell_type": "code",
   "execution_count": 3,
   "metadata": {
    "collapsed": true
   },
   "outputs": [],
   "source": [
    "import sqlalchemy as sa\n",
    "import pandas as pd"
   ]
  },
  {
   "cell_type": "code",
   "execution_count": 4,
   "metadata": {
    "collapsed": true
   },
   "outputs": [],
   "source": [
    "%run ../toxref_mysql_connect.py\n",
    "# print(connect.__doc__)\n",
    "con = connect()  "
   ]
  },
  {
   "cell_type": "code",
   "execution_count": 5,
   "metadata": {},
   "outputs": [
    {
     "name": "stderr",
     "output_type": "stream",
     "text": [
      "/share/home/kpaulfri/anaconda3/lib/python3.6/site-packages/pymysql/cursors.py:166: Warning: (1287, \"'@@tx_isolation' is deprecated and will be removed in a future release. Please use '@@transaction_isolation' instead\")\n",
      "  result = self._query(query)\n"
     ]
    }
   ],
   "source": [
    "bmd_di = pd.read_sql(\"bmd_dichotomous_input\",con)"
   ]
  },
  {
   "cell_type": "code",
   "execution_count": 6,
   "metadata": {
    "collapsed": true
   },
   "outputs": [],
   "source": [
    "bmd_ci = pd.read_sql(\"bmd_continuous_input\",con)"
   ]
  },
  {
   "cell_type": "code",
   "execution_count": 7,
   "metadata": {
    "collapsed": true
   },
   "outputs": [],
   "source": [
    "bmd_m = pd.read_sql(\"bmd_models\",con)"
   ]
  },
  {
   "cell_type": "code",
   "execution_count": 8,
   "metadata": {
    "collapsed": true
   },
   "outputs": [],
   "source": [
    "bmd_di = bmd_di[[\"doses\",\"ns\",\"incidences\",\"data_type\",\"study_id\",\"endpoint_id\",\"tg_effect_id\"]].copy()"
   ]
  },
  {
   "cell_type": "code",
   "execution_count": 9,
   "metadata": {
    "collapsed": true
   },
   "outputs": [],
   "source": [
    "bmd_ci = bmd_ci[[\"doses\",\"ns\",\"means\",\"stdevs\",\"data_type\",\"study_id\",\"endpoint_id\",\"tg_effect_id\"]].copy()"
   ]
  },
  {
   "cell_type": "code",
   "execution_count": 10,
   "metadata": {
    "collapsed": true
   },
   "outputs": [],
   "source": [
    "bmd_m = bmd_m[[\"doses_dropped\", \"model_name\", \"model_version\", \"has_output\", \"BMD\", \"BMDL\", \"BMDU\", \"CSF\", \"AIC\",\n",
    "               \"pvalue1\", \"pvalue2\", \"pvalue3\", \"pvalue4\", \"Chi2\", \"df\", \"residual_of_interest\", \"warnings\", \n",
    "               \"logic_bin\", \"logic_cautions\", \"logic_warnings\", \"logic_failures\", \"recommended\", \"recommended_variable\",\n",
    "               \"bmr\", \"bmr_type\", \"study_id\", \"endpoint_id\", \"tg_effect_id\"]].copy()"
   ]
  },
  {
   "cell_type": "code",
   "execution_count": 11,
   "metadata": {
    "collapsed": true
   },
   "outputs": [],
   "source": [
    "writer = pd.ExcelWriter(\"toxrefdb_bmd.xlsx\")\n",
    "bmd_di.to_excel(writer,sheet_name=\"dichotomous_input\",index=False,merge_cells=False)\n",
    "bmd_ci.to_excel(writer,sheet_name=\"continuous_input\",index=False,merge_cells=False)\n",
    "bmd_m.to_excel(writer,sheet_name=\"model_output\",index=False,merge_cells=False)\n",
    "writer.save()"
   ]
  },
  {
   "cell_type": "code",
   "execution_count": null,
   "metadata": {
    "collapsed": true
   },
   "outputs": [],
   "source": []
  }
 ],
 "metadata": {
  "kernelspec": {
   "display_name": "Python 3",
   "language": "python",
   "name": "python3"
  },
  "language_info": {
   "codemirror_mode": {
    "name": "ipython",
    "version": 3
   },
   "file_extension": ".py",
   "mimetype": "text/x-python",
   "name": "python",
   "nbconvert_exporter": "python",
   "pygments_lexer": "ipython3",
   "version": "3.6.1"
  }
 },
 "nbformat": 4,
 "nbformat_minor": 2
}
