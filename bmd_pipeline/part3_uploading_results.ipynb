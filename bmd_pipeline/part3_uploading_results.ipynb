{
 "cells": [
  {
   "cell_type": "markdown",
   "metadata": {},
   "source": [
    "# BMDS for ToxRefDB - Part 3 - Uploading Results to ToxRefDB\n",
    "The objectives of this document is to upload the tables and output from the BMDS analysis into the ToxRefDB_2_0 database."
   ]
  },
  {
   "cell_type": "code",
   "execution_count": 1,
   "metadata": {},
   "outputs": [
    {
     "name": "stderr",
     "output_type": "stream",
     "text": [
      "Loading required package: DBI\n"
     ]
    }
   ],
   "source": [
    "library(RMySQL)\n",
    "library(data.table)\n",
    "library(magrittr)\n",
    "library(readxl)\n",
    "\n",
    "\n",
    "setwd(\"\")\n",
    "\n",
    "con <- dbConnect(drv = RMySQL::MySQL(), group = \"toxrefdb_2_0\")\n"
   ]
  },
  {
   "cell_type": "code",
   "execution_count": 3,
   "metadata": {},
   "outputs": [],
   "source": [
    "cancer_tr <- read.csv(\"cancer_tr.csv\") %>%\n",
    "data.table() %>%\n",
    ".[ , data_type:=\"cancer\"]\n",
    "\n",
    "dichotomous <- read.csv(\"dichotomous_tr.csv\") %>%\n",
    "data.table() %>%\n",
    ".[ , data_type:=\"dichotomous\"]\n",
    "\n",
    "continuous_notBW <- read.csv(\"continuous_NotBW.csv\") %>%\n",
    "data.table() %>%\n",
    ".[ , data_type:=\"continuous_notBW\"]\n",
    "\n",
    "continuous_BW <- read.csv(\"continuous_BW.csv\") %>%\n",
    "data.table() %>%\n",
    ".[ , data_type:=\"continuous_BW\"]\n",
    "\n",
    "bmd_continuous_input <- rbind(continuous_notBW, continuous_BW)\n",
    "bmd_dichotomous_input <- rbind(cancer_tr, dichotomous)\n"
   ]
  },
  {
   "cell_type": "code",
   "execution_count": 7,
   "metadata": {},
   "outputs": [
    {
     "data": {
      "text/html": [
       "TRUE"
      ],
      "text/latex": [
       "TRUE"
      ],
      "text/markdown": [
       "TRUE"
      ],
      "text/plain": [
       "[1] TRUE"
      ]
     },
     "metadata": {},
     "output_type": "display_data"
    },
    {
     "data": {
      "text/html": [
       "TRUE"
      ],
      "text/latex": [
       "TRUE"
      ],
      "text/markdown": [
       "TRUE"
      ],
      "text/plain": [
       "[1] TRUE"
      ]
     },
     "metadata": {},
     "output_type": "display_data"
    }
   ],
   "source": [
    "dbWriteTable(con, \"bmd_continuous_input\", bmd_continuous_input, overwrite=TRUE)\n",
    "dbWriteTable(con, \"bmd_dichotomous_input\", bmd_dichotomous_input, overwrite=TRUE)"
   ]
  },
  {
   "cell_type": "code",
   "execution_count": null,
   "metadata": {},
   "outputs": [],
   "source": [
    "# Importing Files\n",
    "\n",
    "ToxRefDB_bmd_continuous_1sd <- read_excel(\"ToxRefDB_bmd_continuous_1sd.xlsx\") %>% \n",
    "data.table() %>%\n",
    ".[ , bmr:=1] %>%\n",
    ".[ , bmr_type:=\"sd\"] %>%\n",
    ".[ , c(\"study_id\", \"endpoint_id\", \"tg_effect_id\", \"sex\"):=tstrsplit(dataset_id, \"_\", fixed=TRUE)]\n",
    "\n",
    "ToxRefDB_bmd_continuousBW_10rd <- read_excel(\"ToxRefDB_bmd_continuousBW_10rd.xlsx\") %>% \n",
    "data.table() %>%\n",
    ".[ , bmr:=10] %>%\n",
    ".[ , bmr_type:=\"rd\"] %>%\n",
    ".[ , c(\"study_id\", \"endpoint_id\", \"tg_effect_id\", \"sex\"):=tstrsplit(dataset_id, \"_\", fixed=TRUE)]\n",
    "\n",
    "ToxRefDB_bmd_dichotomous_05bmr <- read_excel(\"ToxRefDB_bmd_dichotomous_05bmr.xlsx\") %>% \n",
    "data.table() %>%\n",
    ".[ , bmr:=5] %>%\n",
    ".[ , bmr_type:=\"bmr\"] %>%\n",
    ".[ , c(\"study_id\", \"endpoint_id\", \"tg_effect_id\", \"sex\"):=tstrsplit(dataset_id, \"_\", fixed=TRUE)]\n",
    "\n",
    "ToxRefDB_bmd_dichotomous_10bmr <- read_excel(\"ToxRefDB_bmd_dichotomous_10bmr.xlsx\") %>% \n",
    "data.table() %>%\n",
    ".[ , bmr:=10] %>%\n",
    ".[ , bmr_type:=\"bmr\"] %>%\n",
    ".[ , c(\"study_id\", \"endpoint_id\", \"tg_effect_id\", \"sex\"):=tstrsplit(dataset_id, \"_\", fixed=TRUE)]\n",
    "\n",
    "ToxRefDB_bmd_dichotomous_cancer5bmr <- read_excel(\"ToxRefDB_bmd_dichotomous_cancer5bmr.xlsx\") %>% \n",
    "data.table() %>%\n",
    ".[ , bmr:=5] %>%\n",
    ".[ , bmr_type:=\"bmr\"] %>%\n",
    ".[ , c(\"study_id\", \"endpoint_id\", \"tg_effect_id\", \"sex\"):=tstrsplit(dataset_id, \"_\", fixed=TRUE)]\n",
    "\n",
    "ToxRefDB_bmd_dichotomous_cancer10bmr <- read_excel(\"ToxRefDB_bmd_dichotomous_cancer10bmr.xlsx\") %>% \n",
    "data.table() %>%\n",
    ".[ , bmr:=10] %>%\n",
    ".[ , bmr_type:=\"bmr\"] %>%\n",
    ".[ , c(\"study_id\", \"endpoint_id\", \"tg_effect_id\", \"sex\"):=tstrsplit(dataset_id, \"_\", fixed=TRUE)]\n",
    "\n",
    "bmd_table <-rbind(ToxRefDB_bmd_continuous_1sd,\n",
    "                  ToxRefDB_bmd_continuousBW_10rd,\n",
    "                  ToxRefDB_bmd_dichotomous_05bmr,\n",
    "                  ToxRefDB_bmd_dichotomous_10bmr,\n",
    "                  ToxRefDB_bmd_dichotomous_cancer5bmr,\n",
    "                  ToxRefDB_bmd_dichotomous_cancer10bmr) %>%\n",
    ".[ ,recommended:=as.numeric(recommended)]\n",
    "\n",
    "bmd_table[ , dfile:=NULL]\n",
    "bmd_table[ , outfile:=NULL]"
   ]
  },
  {
   "cell_type": "code",
   "execution_count": 4,
   "metadata": {},
   "outputs": [
    {
     "data": {},
     "metadata": {},
     "output_type": "display_data"
    },
    {
     "data": {
      "text/html": [
       "<table>\n",
       "<thead><tr><th scope=col>dataset_id</th><th scope=col>doses_dropped</th><th scope=col>model_name</th><th scope=col>model_version</th><th scope=col>has_output</th><th scope=col>BMD</th><th scope=col>BMDL</th><th scope=col>BMDU</th><th scope=col>CSF</th><th scope=col>AIC</th><th scope=col>...</th><th scope=col>logic_cautions</th><th scope=col>logic_warnings</th><th scope=col>logic_failures</th><th scope=col>recommended</th><th scope=col>recommended_variable</th><th scope=col>bmr</th><th scope=col>bmr_type</th><th scope=col>study_id</th><th scope=col>endpoint_id</th><th scope=col>tg_effect_id</th></tr></thead>\n",
       "<tbody>\n",
       "\t<tr><td>1006_187_1263 </td><td>0             </td><td>Exponential-M2</td><td>1.10          </td><td>TRUE          </td><td>272.8610      </td><td>213.5970      </td><td>-999          </td><td>-999          </td><td>125.149       </td><td>...           </td><td>NA            </td><td>NA            </td><td>NA            </td><td>0             </td><td>NA            </td><td>1             </td><td>sd            </td><td>1006          </td><td>187           </td><td>1263          </td></tr>\n",
       "\t<tr><td>1006_187_1263 </td><td>0             </td><td>Exponential-M3</td><td>1.10          </td><td>TRUE          </td><td>274.6260      </td><td>213.6550      </td><td>-999          </td><td>-999          </td><td>127.1413      </td><td>...           </td><td>NA            </td><td>NA            </td><td>NA            </td><td>0             </td><td>NA            </td><td>1             </td><td>sd            </td><td>1006          </td><td>187           </td><td>1263          </td></tr>\n",
       "\t<tr><td>1006_187_1263 </td><td>0             </td><td>Exponential-M4</td><td>1.10          </td><td>TRUE          </td><td>268.0060      </td><td>116.7010      </td><td>-999          </td><td>-999          </td><td>127.2147      </td><td>...           </td><td>NA            </td><td>NA            </td><td>NA            </td><td>0             </td><td>NA            </td><td>1             </td><td>sd            </td><td>1006          </td><td>187           </td><td>1263          </td></tr>\n",
       "\t<tr><td>1006_187_1263 </td><td>0             </td><td>Exponential-M5</td><td>1.10          </td><td>TRUE          </td><td> 86.1424      </td><td> 71.1897      </td><td>-999          </td><td>-999          </td><td>129.0549      </td><td>...           </td><td>NA            </td><td>NA            </td><td>NA            </td><td>1             </td><td>BMDL          </td><td>1             </td><td>sd            </td><td>1006          </td><td>187           </td><td>1263          </td></tr>\n",
       "\t<tr><td>1006_187_1263 </td><td>0             </td><td>Hill          </td><td>2.17          </td><td>TRUE          </td><td> 98.4164      </td><td> 73.0344      </td><td>-999          </td><td>-999          </td><td>129.054913    </td><td>...           </td><td>NA            </td><td>NA            </td><td>NA            </td><td>0             </td><td>NA            </td><td>1             </td><td>sd            </td><td>1006          </td><td>187           </td><td>1263          </td></tr>\n",
       "\t<tr><td>1006_187_1263 </td><td>0             </td><td>Linear        </td><td>2.20          </td><td>TRUE          </td><td>268.0310      </td><td>182.5720      </td><td>-999          </td><td>-999          </td><td>125.213939    </td><td>...           </td><td>NA            </td><td>NA            </td><td>NA            </td><td>0             </td><td>NA            </td><td>1             </td><td>sd            </td><td>1006          </td><td>187           </td><td>1263          </td></tr>\n",
       "</tbody>\n",
       "</table>\n"
      ],
      "text/latex": [
       "\\begin{tabular}{r|lllllllllllllllllllllllllllll}\n",
       " dataset\\_id & doses\\_dropped & model\\_name & model\\_version & has\\_output & BMD & BMDL & BMDU & CSF & AIC & ... & logic\\_cautions & logic\\_warnings & logic\\_failures & recommended & recommended\\_variable & bmr & bmr\\_type & study\\_id & endpoint\\_id & tg\\_effect\\_id\\\\\n",
       "\\hline\n",
       "\t 1006\\_187\\_1263 & 0                 & Exponential-M2    & 1.10              & TRUE              & 272.8610          & 213.5970          & -999              & -999              & 125.149           & ...               & NA                & NA                & NA                & 0                 & NA                & 1                 & sd                & 1006              & 187               & 1263             \\\\\n",
       "\t 1006\\_187\\_1263 & 0                 & Exponential-M3    & 1.10              & TRUE              & 274.6260          & 213.6550          & -999              & -999              & 127.1413          & ...               & NA                & NA                & NA                & 0                 & NA                & 1                 & sd                & 1006              & 187               & 1263             \\\\\n",
       "\t 1006\\_187\\_1263 & 0                 & Exponential-M4    & 1.10              & TRUE              & 268.0060          & 116.7010          & -999              & -999              & 127.2147          & ...               & NA                & NA                & NA                & 0                 & NA                & 1                 & sd                & 1006              & 187               & 1263             \\\\\n",
       "\t 1006\\_187\\_1263 & 0                 & Exponential-M5    & 1.10              & TRUE              &  86.1424          &  71.1897          & -999              & -999              & 129.0549          & ...               & NA                & NA                & NA                & 1                 & BMDL              & 1                 & sd                & 1006              & 187               & 1263             \\\\\n",
       "\t 1006\\_187\\_1263 & 0                 & Hill              & 2.17              & TRUE              &  98.4164          &  73.0344          & -999              & -999              & 129.054913        & ...               & NA                & NA                & NA                & 0                 & NA                & 1                 & sd                & 1006              & 187               & 1263             \\\\\n",
       "\t 1006\\_187\\_1263 & 0                 & Linear            & 2.20              & TRUE              & 268.0310          & 182.5720          & -999              & -999              & 125.213939        & ...               & NA                & NA                & NA                & 0                 & NA                & 1                 & sd                & 1006              & 187               & 1263             \\\\\n",
       "\\end{tabular}\n"
      ],
      "text/markdown": [
       "\n",
       "dataset_id | doses_dropped | model_name | model_version | has_output | BMD | BMDL | BMDU | CSF | AIC | ... | logic_cautions | logic_warnings | logic_failures | recommended | recommended_variable | bmr | bmr_type | study_id | endpoint_id | tg_effect_id | \n",
       "|---|---|---|---|---|---|\n",
       "| 1006_187_1263  | 0              | Exponential-M2 | 1.10           | TRUE           | 272.8610       | 213.5970       | -999           | -999           | 125.149        | ...            | NA             | NA             | NA             | 0              | NA             | 1              | sd             | 1006           | 187            | 1263           | \n",
       "| 1006_187_1263  | 0              | Exponential-M3 | 1.10           | TRUE           | 274.6260       | 213.6550       | -999           | -999           | 127.1413       | ...            | NA             | NA             | NA             | 0              | NA             | 1              | sd             | 1006           | 187            | 1263           | \n",
       "| 1006_187_1263  | 0              | Exponential-M4 | 1.10           | TRUE           | 268.0060       | 116.7010       | -999           | -999           | 127.2147       | ...            | NA             | NA             | NA             | 0              | NA             | 1              | sd             | 1006           | 187            | 1263           | \n",
       "| 1006_187_1263  | 0              | Exponential-M5 | 1.10           | TRUE           |  86.1424       |  71.1897       | -999           | -999           | 129.0549       | ...            | NA             | NA             | NA             | 1              | BMDL           | 1              | sd             | 1006           | 187            | 1263           | \n",
       "| 1006_187_1263  | 0              | Hill           | 2.17           | TRUE           |  98.4164       |  73.0344       | -999           | -999           | 129.054913     | ...            | NA             | NA             | NA             | 0              | NA             | 1              | sd             | 1006           | 187            | 1263           | \n",
       "| 1006_187_1263  | 0              | Linear         | 2.20           | TRUE           | 268.0310       | 182.5720       | -999           | -999           | 125.213939     | ...            | NA             | NA             | NA             | 0              | NA             | 1              | sd             | 1006           | 187            | 1263           | \n",
       "\n",
       "\n"
      ],
      "text/plain": [
       "  dataset_id    doses_dropped model_name     model_version has_output BMD     \n",
       "1 1006_187_1263 0             Exponential-M2 1.10          TRUE       272.8610\n",
       "2 1006_187_1263 0             Exponential-M3 1.10          TRUE       274.6260\n",
       "3 1006_187_1263 0             Exponential-M4 1.10          TRUE       268.0060\n",
       "4 1006_187_1263 0             Exponential-M5 1.10          TRUE        86.1424\n",
       "5 1006_187_1263 0             Hill           2.17          TRUE        98.4164\n",
       "6 1006_187_1263 0             Linear         2.20          TRUE       268.0310\n",
       "  BMDL     BMDU CSF  AIC        ... logic_cautions logic_warnings\n",
       "1 213.5970 -999 -999 125.149    ... NA             NA            \n",
       "2 213.6550 -999 -999 127.1413   ... NA             NA            \n",
       "3 116.7010 -999 -999 127.2147   ... NA             NA            \n",
       "4  71.1897 -999 -999 129.0549   ... NA             NA            \n",
       "5  73.0344 -999 -999 129.054913 ... NA             NA            \n",
       "6 182.5720 -999 -999 125.213939 ... NA             NA            \n",
       "  logic_failures recommended recommended_variable bmr bmr_type study_id\n",
       "1 NA             0           NA                   1   sd       1006    \n",
       "2 NA             0           NA                   1   sd       1006    \n",
       "3 NA             0           NA                   1   sd       1006    \n",
       "4 NA             1           BMDL                 1   sd       1006    \n",
       "5 NA             0           NA                   1   sd       1006    \n",
       "6 NA             0           NA                   1   sd       1006    \n",
       "  endpoint_id tg_effect_id\n",
       "1 187         1263        \n",
       "2 187         1263        \n",
       "3 187         1263        \n",
       "4 187         1263        \n",
       "5 187         1263        \n",
       "6 187         1263        "
      ]
     },
     "metadata": {},
     "output_type": "display_data"
    }
   ],
   "source": [
    "head(bmd_table)"
   ]
  },
  {
   "cell_type": "code",
   "execution_count": null,
   "metadata": {
    "collapsed": true
   },
   "outputs": [],
   "source": [
    "dbWriteTable(con, \"bmd_models\", bmd_table, overwrite=TRUE)"
   ]
  }
 ],
 "metadata": {
  "kernelspec": {
   "display_name": "R",
   "language": "R",
   "name": "ir"
  },
  "language_info": {
   "codemirror_mode": "r",
   "file_extension": ".r",
   "mimetype": "text/x-r-source",
   "name": "R",
   "pygments_lexer": "r",
   "version": "3.4.3"
  }
 },
 "nbformat": 4,
 "nbformat_minor": 2
}
